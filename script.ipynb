{
 "cells": [
  {
   "cell_type": "code",
   "execution_count": 1,
   "metadata": {},
   "outputs": [],
   "source": [
    "import imaplib\n",
    "import email\n",
    "\n",
    "from bs4 import BeautifulSoup\n",
    "import gc\n",
    "import os\n",
    "import requests\n",
    "import httpx\n",
    "import re\n",
    "import time\n",
    "import undetected_chromedriver as uc\n",
    "from selenium.webdriver.common.by import By\n",
    "from selenium.webdriver.common.keys import Keys\n",
    "from selenium.webdriver import ChromeOptions, Chrome\n",
    "import random\n",
    "import json\n",
    "import logging\n",
    "import pandas as pd\n",
    "from string import ascii_letters, punctuation\n",
    "from fake_useragent import UserAgent\n",
    "\n",
    "logger = logging.getLogger(\"selenium\")\n",
    "logger.setLevel(logging.INFO)\n",
    "\n",
    "android_ua = \"Mozilla/5.0 (Linux; Android 14; LM-X420) AppleWebKit/537.36 (KHTML, like Gecko) Chrome/120.0.6099.210 Mobile Safari/537.36\"\n",
    "\n",
    "\n",
    "def load_cookies():\n",
    "    with open(\"cookies.json\") as f:\n",
    "        cooks = json.load(f)\n",
    "    return cooks\n",
    "\n",
    "\n",
    "def get_options(mobile=False, headless=False):\n",
    "    options = ChromeOptions()\n",
    "    if mobile:\n",
    "        mobile_emulation = {\n",
    "            \"deviceMetrics\": {\"width\": 720, \"height\": 1280, \"pixelRatio\": 3.0},\n",
    "            # \"Mozilla/5.0 (Linux; Android 4.2.1; en-us; Nexus 5 Build/JOP40D) AppleWebKit/535.19 (KHTML, like Gecko) Chrome/18.0.1025.166 Mobile Safari/535.19\",\n",
    "            \"userAgent\": android_ua,\n",
    "            \"clientHints\": {\"platform\": \"Android\", \"mobile\": True},\n",
    "        }\n",
    "        options.add_experimental_option(\"mobileEmulation\", mobile_emulation)\n",
    "    if headless:\n",
    "        options.add_argument(\"--headless\")\n",
    "    options.add_argument(\"--no-sandbox\")\n",
    "    # this argument disables the welcome screen\n",
    "    options.add_argument(\"--disable-fre\")\n",
    "    options.add_argument(\"--disable-dev-shm-usage\")\n",
    "    options.add_argument(\"--disable-notifications\")\n",
    "    options.add_argument(\"--disable-infobars\")\n",
    "    options.add_argument(\"--disable-extensions\")\n",
    "    options.add_argument(\"--show\")\n",
    "    # options.add_argument(\"--window-size=1080,1920\")\n",
    "    # options.add_experimental_option(\"excludeSwitches\", [\"enable-automation\"])\n",
    "    # options.add_experimental_option('useAutomationExtension','False')\n",
    "    options.add_argument(\"--disable-blink-features=AutomationControlled\")\n",
    "    options.add_argument(\"--start-maximized\")\n",
    "    options.add_argument(f\"--proxy-server={get_proxies()[0]}\")\n",
    "    # options.add_argument(f'--proxy-server=http://72.10.160.90:3995')\n",
    "    # options.add_experimental_option(\n",
    "    #     \"prefs\",\n",
    "    #     {\n",
    "    #         \"profile.default_content_setting_values.media_stream_mic\": 1,\n",
    "    #         \"profile.default_content_setting_values.media_stream_camera\": 1,\n",
    "    #         \"profile.default_content_setting_values.geolocation\": 0,\n",
    "    #         \"profile.default_content_setting_values.notifications\": 1,\n",
    "    #     },\n",
    "    # )\n",
    "    # options.add_argument(\n",
    "    #     \"--user-data-dir=C:/Users/Dunes/AppData/Local/Google/Chrome/User Data\"\n",
    "    # )\n",
    "    return options\n",
    "\n",
    "\n",
    "def nav_update(driver):\n",
    "    try:\n",
    "        pass\n",
    "    except Exception as e:\n",
    "        pass\n",
    "    # driver.maximize_window()\n",
    "    x = driver.execute_script(\"return window.pageYOffset\")\n",
    "    new = 1\n",
    "    count = 0\n",
    "    while x != new:\n",
    "        gc.collect()\n",
    "        try:\n",
    "            driver.execute_script(\"return window.scrollBy(0,1000)\")\n",
    "            time.sleep(2)\n",
    "            new = x\n",
    "            x = driver.execute_script(\"return window.pageYOffset\")\n",
    "        except:\n",
    "            pass\n",
    "        x = driver.execute_script(\"return window.pageYOffset\")\n",
    "        if x == new or count > 25:\n",
    "            # count+=1\n",
    "            # print(x,new)\n",
    "            # print(count)\n",
    "            # if count>3:\n",
    "            break\n",
    "        count += 1\n",
    "\n",
    "\n",
    "def get_proxies():\n",
    "    proxy_url = \"https://api.proxyscrape.com/v2/?request=displayproxies&protocol=http&timeout=10000&country=all&ssl=yes&anonymity=elite\"\n",
    "    r = requests.get(proxy_url)\n",
    "    proxies = [i.strip() for i in r.text.splitlines()]\n",
    "    with open(\"proxies.txt\", \"w\") as f:\n",
    "        for proxy in proxies:\n",
    "            f.write(f\"{proxy}\\n\")\n",
    "    random.shuffle(proxies)\n",
    "    print(proxies[0])\n",
    "    return proxies\n",
    "\n",
    "\n",
    "def getOTP(userEmail: str, password: str) -> str:\n",
    "    # Outlook IMAP settings\n",
    "    outlook_server = \"outlook.office365.com\"\n",
    "\n",
    "    # Connect to Outlook's IMAP server\n",
    "    mail = imaplib.IMAP4_SSL(outlook_server)\n",
    "    mail.login(userEmail, password)\n",
    "\n",
    "    # Select the mailbox you want to access\n",
    "    mail.select(\"inbox\")\n",
    "\n",
    "    # Search for all emails in the inbox\n",
    "    status, messages = mail.search(None, \"ALL\")\n",
    "    messages = messages[0].split()\n",
    "\n",
    "    # Get the latest email\n",
    "    latest_email_id = messages[-1]\n",
    "\n",
    "    # Fetch the email by ID\n",
    "    status, msg_data = mail.fetch(latest_email_id, \"(RFC822)\")\n",
    "    raw_email = msg_data[0][1]\n",
    "\n",
    "    # Parse the raw email\n",
    "    msg = email.message_from_bytes(raw_email)\n",
    "\n",
    "    # Extract the HTML part of the email\n",
    "    for part in msg.walk():\n",
    "        content_type = part.get_content_type()\n",
    "\n",
    "        # Check for text/html parts\n",
    "        if \"text/html\" in content_type:\n",
    "            # Get the HTML content\n",
    "            html_content = part.get_payload(decode=True).decode(\"utf-8\")\n",
    "\n",
    "    # Parse the HTML part with BeautifulSoup\n",
    "    soup = BeautifulSoup(html_content, \"html5lib\")\n",
    "\n",
    "    # Find the confirmation code element by its style attribute\n",
    "    confirmation_code_element = soup.find(\n",
    "        \"td\",\n",
    "        style=\"padding:10px;color:#565a5c;font-size:32px;font-weight:500;text-align:center;padding-bottom:25px;\",\n",
    "    )\n",
    "\n",
    "    # Extract the confirmation code\n",
    "    if confirmation_code_element:\n",
    "        confirmation_code = confirmation_code_element.get_text(strip=True)\n",
    "        code = confirmation_code\n",
    "    else:\n",
    "        code = \"Confirmation code element not found.\"\n",
    "\n",
    "    # Close the connection\n",
    "    mail.logout()\n",
    "\n",
    "    # return the code\n",
    "    return code, soup"
   ]
  },
  {
   "cell_type": "code",
   "execution_count": 2,
   "metadata": {},
   "outputs": [
    {
     "name": "stdout",
     "output_type": "stream",
     "text": [
      "72.10.164.178:1689\n"
     ]
    }
   ],
   "source": [
    "driver = uc.Chrome(options=get_options(mobile=False, headless=False))"
   ]
  },
  {
   "cell_type": "code",
   "execution_count": null,
   "metadata": {},
   "outputs": [],
   "source": []
  },
  {
   "cell_type": "code",
   "execution_count": 11,
   "metadata": {},
   "outputs": [
    {
     "name": "stdout",
     "output_type": "stream",
     "text": [
      "{'domain': '.tiktok.com', 'expiry': 1713492044, 'httpOnly': False, 'name': 'msToken', 'path': '/', 'sameSite': 'Lax', 'secure': False, 'value': 'zXngqhMOBAJjkt3_0LxnI1OAYCnW2L1GeQeydiEJCWbGPmzicmJ-ncoMg1jxfwTuiFt2kJBkkttjG6Ro7rLTtk2ktSex59vlrvXYAoAi_FuyExL1-Nfe3rK0gcm-IxpeP_9HUwHIJ6i8psE='}\n",
      "{'domain': '.tiktok.com', 'expiry': 1737251989, 'httpOnly': True, 'name': 'odin_tt', 'path': '/', 'sameSite': 'Lax', 'secure': False, 'value': 'd3315003aebeddb4bb41f9bd5c5a6a9f6e9e1b42c8ad60d380dd343fe8002613dba384dad6b613f48d705a5b6661538f4d1c0a6e7f3110624a4378c369118886915449eac421f604b3721ff33c528fc1'}\n",
      "{'domain': '.tiktok.com', 'expiry': 1706147990, 'httpOnly': False, 'name': 'perf_feed_cache', 'path': '/', 'sameSite': 'Lax', 'secure': True, 'value': '{%22expireTimestamp%22:1705885200000%2C%22itemIds%22:[%227315404328829881605%22%2C%227300214016146722080%22%2C%227320295069636988203%22]}'}\n",
      "{'domain': '.tiktok.com', 'httpOnly': False, 'name': 'passport_fe_beating_status', 'path': '/', 'sameSite': 'Lax', 'secure': False, 'value': 'true'}\n",
      "{'domain': '.tiktok.com', 'expiry': 1705720451, 'httpOnly': False, 'name': 'bm_sv', 'path': '/', 'sameSite': 'Lax', 'secure': True, 'value': 'D4BEC51DC76F731F1F525BD05F86FAC5~YAAQ15PMF2y9aBWNAQAA+1OYJBbSKzCpLKzsr7BO2YXdjQYH6kMWHfuKQCyHOrOfvaEHyAnnyD6ANbaleAhvH+9TZhPEHyOre5UfbLLa4MvP12qVMNGlDP35IaH7l6MEYRTg3iW4TFMUpnHeuicEgvcJhvbo0i8C3OGDxP2fstKxLB70LEtYkB/0iUQkyegwmALfLDkC5Qq4XwmxTqkkB0lFFAi6zHb8BO1FT59eVASP1lOKAyHNGLN8sD+iOmJa~1'}\n",
      "{'domain': '.tiktok.com', 'expiry': 1713490997, 'httpOnly': False, 'name': 'last_login_method', 'path': '/', 'sameSite': 'Lax', 'secure': False, 'value': 'email'}\n",
      "{'domain': '.tiktok.com', 'expiry': 1737251970, 'httpOnly': True, 'name': 'tt-target-idc-sign', 'path': '/', 'sameSite': 'Lax', 'secure': False, 'value': '21Ma-BQ32pTFWgSybOsmEjZNeClHFTiw6urU66pth462njqMrc_7kfUrRKEH139yKe7q6hwkzsqVlRbsDskX0jdlpwigKLtfiCv-5juxadIj-ngpDMpzYgKlATn5yrTk18HtwystQjxNEW0oCcFWUoHGJXIMKKjTgzw4Dn64zXJeNRK8qiyIrUa8JKCNvgc25PShpGEq-hUlbDF7yptl5tslAhLMFPNq7cwD64jSomDplIIOLJ_8G1l1eAPwgLnzWlMMa5j9UfC7reLNzMFZmM6pmGPdQ8mzsUkJyQ2uKbJOujZE8aA5NJyV0giu4CimSnVMS0P3-n5RNv3AoBsGo6Ji-uMv0Y1rJte1gsRPWUFlsYS7fyAUl0DGi86l3M_zx63xxNPjshVelVEaNRYIM2Y0Xd_dhCIcR4ceUh_Pzh7GAESxP72YGyxgtluV2uOooSp2WoIlzwYHLHsVvwI6mHwOmNHDHELeK3Jvbjf5UpbXHesJWGL1rfctI7Z-JSua'}\n",
      "{'domain': '.tiktok.com', 'expiry': 1705720448, 'httpOnly': True, 'name': 'ak_bmsc', 'path': '/', 'sameSite': 'Lax', 'secure': False, 'value': '171192BD0E3F37F064495DAAE884A3B0~000000000000000000000000000000~YAAQRqXcF3/z9hyNAQAAQQBvJBaKte00zdCH2f2t3ZScYqgEA7r3aJTjVeMdxVFd1wXWmRllsIeH9nQFQZ/mdUlMUtDISoPvNVzlSuAPg9/PZizXIH/FVcVcifCHniAGo+mREv5Bu3u3m/AaR8MLxY17SuUHSxMgiDI9u208l2L8LQLVjktxPFA6sJ5F8+TS4A7a7rLl2ynsH5XDfM3kukZzJRXd95oVpl3qJrDzsJx1nKAR+pEAKwe2wo3JR5wpBrppWuv906Fk5UeAxucU7QGqWg7re5XMKRE+oY6NyQm4bg55V+fYg2MjVrrzYLM5YwyrW2aO7wbJN8AYpYBvz5N8Svl48w2WMh4eIwIZUGbZe3oZ6GAC9zFAajnxTfTgB6XGhiHeFt2HwwGjNcy9i2+BjHeXQIX8ZqN/+69yLPmlQjYauaUQQ48LRrv7neAbpxYbPtjA8lGh8KUwMlSdT/l+DuaPdw36w8HCvwcurF8HN7m51V2EGRsrXDB2TBwC8LT5Uze0XIlU/rS5twY8wFyQwe8WPII='}\n",
      "{'domain': '.tiktok.com', 'expiry': 1721266997, 'httpOnly': True, 'name': 'store-country-code-src', 'path': '/', 'sameSite': 'Lax', 'secure': False, 'value': 'uid'}\n",
      "{'domain': '.tiktok.com', 'expiry': 1710898997, 'httpOnly': True, 'name': 'cmpl_token', 'path': '/', 'sameSite': 'Lax', 'secure': True, 'value': 'AgQQAPNSF-RO0rWV8PBedN0S_8qHDecI_6jZYNJR0w'}\n",
      "{'domain': '.tiktok.com', 'expiry': 1721266997, 'httpOnly': True, 'name': 'store-country-code', 'path': '/', 'sameSite': 'Lax', 'secure': False, 'value': 'us'}\n",
      "{'domain': '.tiktok.com', 'expiry': 1737251982, 'httpOnly': True, 'name': 'ttwid', 'path': '/', 'sameSite': 'None', 'secure': True, 'value': '1%7ClRO_pmRlYccLolG0-MisbSsitKYYAOqHDdnZIuj8pfs%7C1705715983%7C05de71725a82bd05f82e4b69aed7bff4a891870314f0477f145e6830d62cd80e'}\n",
      "{'domain': '.tiktok.com', 'httpOnly': True, 'name': 'tt_csrf_token', 'path': '/', 'sameSite': 'Lax', 'secure': True, 'value': 'U6qFPWnV-zhDcYO7e5drTVhifdedbdUdtn5k'}\n",
      "{'domain': '.tiktok.com', 'expiry': 1721266997, 'httpOnly': True, 'name': 'store-idc', 'path': '/', 'sameSite': 'Lax', 'secure': False, 'value': 'useast5'}\n",
      "{'domain': '.tiktok.com', 'expiry': 1721266997, 'httpOnly': True, 'name': 'sessionid_ss', 'path': '/', 'sameSite': 'None', 'secure': True, 'value': '06a278fbcb4d1154785d3e05962e1636'}\n",
      "{'domain': '.tiktok.com', 'expiry': 1721266997, 'httpOnly': True, 'name': 'sid_ucp_v1', 'path': '/', 'sameSite': 'Lax', 'secure': True, 'value': '1.0.0-KGQyYmM2ZmVkNTdlNTVkNDU2ZTUxYmFlNTc1N2E4NjAxZWNjYjI4MjIKIAiriJiy_crH1WUQtcqsrQYYswsgDDDkvKytBjgBQOsHEAQaB3VzZWFzdDUiIDA2YTI3OGZiY2I0ZDExNTQ3ODVkM2UwNTk2MmUxNjM2'}\n",
      "{'domain': '.tiktok.com', 'expiry': 1721266997, 'httpOnly': True, 'name': 'sessionid', 'path': '/', 'sameSite': 'Lax', 'secure': True, 'value': '06a278fbcb4d1154785d3e05962e1636'}\n",
      "{'domain': '.tiktok.com', 'expiry': 1721266997, 'httpOnly': True, 'name': 'uid_tt_ss', 'path': '/', 'sameSite': 'None', 'secure': True, 'value': 'b745f546f1f8cb36f050dcf6d592266196e180e6c2eeb0d391983532044ccb15'}\n",
      "{'domain': '.tiktok.com', 'expiry': 1721266997, 'httpOnly': True, 'name': 'uid_tt', 'path': '/', 'sameSite': 'Lax', 'secure': True, 'value': 'b745f546f1f8cb36f050dcf6d592266196e180e6c2eeb0d391983532044ccb15'}\n",
      "{'domain': '.tiktok.com', 'expiry': 1721266997, 'httpOnly': True, 'name': 'ssid_ucp_v1', 'path': '/', 'sameSite': 'None', 'secure': True, 'value': '1.0.0-KGQyYmM2ZmVkNTdlNTVkNDU2ZTUxYmFlNTc1N2E4NjAxZWNjYjI4MjIKIAiriJiy_crH1WUQtcqsrQYYswsgDDDkvKytBjgBQOsHEAQaB3VzZWFzdDUiIDA2YTI3OGZiY2I0ZDExNTQ3ODVkM2UwNTk2MmUxNjM2'}\n",
      "{'domain': '.tiktok.com', 'expiry': 1710897387, 'httpOnly': False, 'name': 'passport_csrf_token_default', 'path': '/', 'sameSite': 'Lax', 'secure': False, 'value': '5101c99f8b33923f5d47d1d23464ace0'}\n",
      "{'domain': '.tiktok.com', 'expiry': 1736818997, 'httpOnly': True, 'name': 'sid_guard', 'path': '/', 'sameSite': 'Lax', 'secure': True, 'value': '06a278fbcb4d1154785d3e05962e1636%7C1705714997%7C15552000%7CThu%2C+18-Jul-2024+01%3A43%3A17+GMT'}\n",
      "{'domain': '.tiktok.com', 'expiry': 1721266997, 'httpOnly': True, 'name': 'tt-target-idc', 'path': '/', 'sameSite': 'Lax', 'secure': False, 'value': 'useast8'}\n",
      "{'domain': '.tiktok.com', 'expiry': 1731635980, 'httpOnly': False, 'name': 'tiktok_webapp_theme', 'path': '/', 'sameSite': 'Lax', 'secure': True, 'value': 'light'}\n",
      "{'domain': '.tiktok.com', 'expiry': 1710897387, 'httpOnly': False, 'name': 'passport_csrf_token', 'path': '/', 'sameSite': 'None', 'secure': True, 'value': '5101c99f8b33923f5d47d1d23464ace0'}\n",
      "{'domain': '.tiktok.com', 'httpOnly': False, 'name': 's_v_web_id', 'path': '/', 'sameSite': 'None', 'secure': True, 'value': 'verify_lrldtv1y_sb06uGB6_UF1p_4jTb_AMDr_1JQLqFsKr4Ea'}\n",
      "{'domain': '.tiktok.com', 'expiry': 1706580007, 'httpOnly': False, 'name': 'msToken', 'path': '/', 'sameSite': 'None', 'secure': True, 'value': 'YomlfyK96DxgKN0Rf8fEOnPOl_gWt_AgeyEF-3af3hVio-Rm2t9CxFs8OXq1vwwzB-e78S4RLEZV3dqnzeFrzIinF7qouCKJrSUmL6JHDGXxyIO2Z0GWRuxN3gQHNM-ZHG7Bag=='}\n",
      "{'domain': '.tiktok.com', 'expiry': 1705720449, 'httpOnly': False, 'name': 'bm_mi', 'path': '/', 'sameSite': 'Lax', 'secure': True, 'value': '3A8CABFA04F09CC0E526E31A256415CC~YAAQRqXcF0Hz9hyNAQAADrluJBYGfyGgbAkd2frcsf/n4lO/2jMPd8rmoWdKQGTr6uyNww8auKzUdZECYUhVDXxSccl3osofYqIgSMyKEAAUgNNLlR+hXIfud2M/brnSJYeaEvuFJd7M+wJeoDIo1ptUB26h/8FTIq3fTsUzFHc2Rd9MHfUL6PDIwjtzJXU/+wmqzeSdyw7F7Y0izSZ3dA9fTG/Mcm2zyT0YNVognYqR2E2qNhF1ebExOdTEG9uPyJ/k0meMXwjvP/eNUopt0AzqstepkxyVSsD+oE3DQWbmMJOA4JbAB6nAWy/i+TCYi5NqHA==~1'}\n",
      "{'domain': '.tiktok.com', 'expiry': 1721266997, 'httpOnly': True, 'name': 'sid_tt', 'path': '/', 'sameSite': 'Lax', 'secure': True, 'value': '06a278fbcb4d1154785d3e05962e1636'}\n",
      "{'domain': '.tiktok.com', 'expiry': 1721267978, 'httpOnly': True, 'name': 'tt_chain_token', 'path': '/', 'sameSite': 'Lax', 'secure': True, 'value': '+/GxwtQxMbk8tRxfuSw5Sg=='}\n",
      "{'domain': '.tiktok.com', 'expiry': 1710898997, 'httpOnly': True, 'name': 'multi_sids', 'path': '/', 'sameSite': 'Lax', 'secure': True, 'value': '7325982581454144555%3A06a278fbcb4d1154785d3e05962e1636'}\n"
     ]
    }
   ],
   "source": [
    "for cookies in load_cookies():\n",
    "    cookies[\"domain\"] = \".tiktok.com\"\n",
    "    print(cookies)\n",
    "    driver.add_cookie(cookies)"
   ]
  },
  {
   "cell_type": "code",
   "execution_count": null,
   "metadata": {},
   "outputs": [],
   "source": [
    "proxies = get_proxies()\n",
    "proxy = \"http://\" + proxies[0]\n",
    "url = \"https://myexternalip.com/raw\"\n",
    "r = httpx.get(url, proxies={\"http://\": proxy, \"https://\": proxy})\n",
    "r"
   ]
  },
  {
   "cell_type": "code",
   "execution_count": null,
   "metadata": {},
   "outputs": [],
   "source": [
    "driver.quit()\n",
    "del driver"
   ]
  },
  {
   "cell_type": "code",
   "execution_count": null,
   "metadata": {},
   "outputs": [],
   "source": [
    "driver.get(\"https://httpbin.org/ip\")\n",
    "driver.find_element(By.TAG_NAME, \"body\").text"
   ]
  },
  {
   "cell_type": "code",
   "execution_count": null,
   "metadata": {},
   "outputs": [],
   "source": [
    "with open(\"cookis.json\", \"w\") as f:\n",
    "    json.dump(driver.get_cookies(), f)"
   ]
  },
  {
   "cell_type": "code",
   "execution_count": null,
   "metadata": {},
   "outputs": [],
   "source": [
    "user_info = pd.read_excel(\"testing list.xlsx\")\n",
    "user_info = json.loads(user_info.to_json(orient=\"index\"))\n",
    "user_info"
   ]
  },
  {
   "cell_type": "code",
   "execution_count": null,
   "metadata": {},
   "outputs": [],
   "source": [
    "def get_info(num):\n",
    "    return user_info[str(num)]\n",
    "\n",
    "\n",
    "email, password, recovery = get_info().values()\n",
    "email, password"
   ]
  },
  {
   "cell_type": "code",
   "execution_count": null,
   "metadata": {},
   "outputs": [],
   "source": [
    "# create tiktok signup url assigned to url\n",
    "url = \"https://www.tiktok.com/signup\"\n",
    "driver.get(url)\n",
    "url = \"https://www.tiktok.com/signup/phone-or-email/email\"\n",
    "\n",
    "driver.get(url)"
   ]
  },
  {
   "cell_type": "code",
   "execution_count": 4,
   "metadata": {},
   "outputs": [],
   "source": [
    "# driver.get(\"https://www.tiktok.com/login\")\n",
    "driver.get(\"https://www.tiktok.com/login/phone-or-email/email\")"
   ]
  },
  {
   "cell_type": "code",
   "execution_count": null,
   "metadata": {},
   "outputs": [],
   "source": [
    "def get_value(typ=\"m\"):\n",
    "    if typ == \"m\":\n",
    "        val = random.randint(0, 11)\n",
    "        # val = f\"Month-options-item-{val}\"\n",
    "    elif typ == \"y\":\n",
    "        val = random.randint(18, 40)\n",
    "        # val = f\"Year-options-item-{val}\"\n",
    "    elif typ == \"d\":\n",
    "        val = random.randint(0, 28)\n",
    "        # val = f\"Day-options-item-{val}\"\n",
    "    else:\n",
    "        val = 2\n",
    "    return val\n",
    "\n",
    "\n",
    "val = get_value(\"y\")\n",
    "val"
   ]
  },
  {
   "cell_type": "code",
   "execution_count": null,
   "metadata": {},
   "outputs": [],
   "source": [
    "def get_age():\n",
    "    age = driver.find_elements(By.CLASS_NAME, \"tiktok-1pp5msd-DivSelector\")\n",
    "    values = [\"m\", \"d\", \"y\"]\n",
    "    for idx, i in enumerate(age):\n",
    "        i.click()\n",
    "        vals = i.find_elements(By.CLASS_NAME, \"tiktok-x376y3-DivOption\")\n",
    "        val = get_value(values[idx])\n",
    "        print(val)\n",
    "        vals[val].click()"
   ]
  },
  {
   "cell_type": "code",
   "execution_count": null,
   "metadata": {},
   "outputs": [],
   "source": [
    "def create_account():\n",
    "    account_email = \"\".join(random.choices(ascii_letters, k=10)) + \"@gnail.com\"\n",
    "    password = \"\".join(random.choices(\n",
    "        ascii_letters + punctuation + \"1234567890\", k=10))\n",
    "    if not os.path.exists(\"accounts.txt\"):\n",
    "        with open(\"accounts.txt\", \"w\") as f:\n",
    "            f.write(\"Email, Password\\n\")\n",
    "            f.write(f\"{account_email} , {password}\\n\")\n",
    "    else:\n",
    "        with open(\"accounts.txt\", \"a\") as f:\n",
    "            f.write(f\"{account_email} , {password}\\n\")\n",
    "    return account_email, password\n",
    "\n",
    "\n",
    "base_url = \"https://api.mail.tm\"\n",
    "email, password = create_account()\n",
    "email, password"
   ]
  },
  {
   "cell_type": "code",
   "execution_count": null,
   "metadata": {},
   "outputs": [],
   "source": [
    "from collections import OrderedDict\n",
    "from string import ascii_letters, punctuation\n",
    "\n",
    "\n",
    "class MailTM:\n",
    "    def __init__(self):\n",
    "        self.email = None\n",
    "        self.password = None\n",
    "        self.base_url = \"https://api.mail.tm\"\n",
    "        self.headers = {\n",
    "            \"Accept\": \"application/json\",\n",
    "        }\n",
    "        self.json_path = \"accounts.json\"\n",
    "        self.domains = None\n",
    "        self.account_details = {}\n",
    "        self.has_accounts = self.has_creds()\n",
    "\n",
    "    def __repr__(self):\n",
    "        return f\"MailTM({self.email} , {self.password})\"\n",
    "\n",
    "    @property\n",
    "    def get_domains(self):\n",
    "        r = requests.get(f\"{self.base_url}/domains\")\n",
    "        self.domains = r.json().get(\"hydra:member\", {})\n",
    "        return self.domains\n",
    "\n",
    "    def has_creds(self):\n",
    "        if not os.path.exists(self.json_path):\n",
    "            return False\n",
    "        with open(self.json_path) as file:\n",
    "            creds = json.load(file)\n",
    "        if len(creds) > 0:\n",
    "            self.account_details = creds\n",
    "            return True\n",
    "        return False\n",
    "\n",
    "    @property\n",
    "    def random_info(self):\n",
    "        account_email = (\n",
    "            \"\".join(random.choices(ascii_letters, k=10))\n",
    "            + \"@\"\n",
    "            + self.get_domains[0].get(\"domain\", \"\")\n",
    "        )\n",
    "        if not \"@\" in account_email:\n",
    "            raise ValueError(\"domain not found\")\n",
    "        password = \"\".join(\n",
    "            random.choices(ascii_letters + \",.?!@#$%^&*\" + \"1234567890\", k=10)\n",
    "        )\n",
    "        if not os.path.exists(\"accounts.txt\"):\n",
    "            with open(\"accounts.txt\", \"w\") as f:\n",
    "                f.write(\"Email, Password\\n\")\n",
    "                f.write(f\"{account_email} , {password}\\n\")\n",
    "        else:\n",
    "            with open(\"accounts.txt\", \"a\") as f:\n",
    "                f.write(f\"{account_email} , {password}\\n\")\n",
    "        self.email = account_email\n",
    "        self.password = password\n",
    "        return account_email, password\n",
    "\n",
    "    def create_account(self, num=2, save=True, random_account=False):\n",
    "        if random_account:\n",
    "            self.account_details = {}\n",
    "        for i in range(num):\n",
    "            self.random_info\n",
    "            r = requests.post(\n",
    "                f\"{self.base_url}/accounts\",\n",
    "                json={\"address\": self.email, \"password\": self.password},\n",
    "            )\n",
    "            account_details = r.json()\n",
    "            account_details[\"password\"] = self.password\n",
    "            self.account_details[account_details[\"id\"]] = account_details\n",
    "        if save:\n",
    "            if self.has_accounts:\n",
    "                with open(self.json_path, \"r\") as f:\n",
    "                    self.account_details.update(json.load(f))\n",
    "            with open(self.json_path, \"w\") as f:\n",
    "                json.dump(self.account_details, f, indent=4)\n",
    "        return self.accounts()\n",
    "\n",
    "    def accounts(self, save=True):\n",
    "        self.get_tokens()\n",
    "        if self.has_accounts:\n",
    "            if save:\n",
    "                with open(self.json_path, \"w\") as f:\n",
    "                    json.dump(self.account_details, f, indent=4)\n",
    "            return self.account_details\n",
    "        self.create_account()\n",
    "        if os.path.exists(self.json_path):\n",
    "            with open(self.json_path, \"r\") as f:\n",
    "                self.account_details.append(json.load(f))\n",
    "        return self.account_details\n",
    "\n",
    "    def get_tokens(self):\n",
    "        for idx, account_info in self.account_details.items():\n",
    "            if account_info.get(\"token\"):\n",
    "                continue\n",
    "            email = account_info[\"address\"]\n",
    "            password = account_info[\"password\"]\n",
    "            r = requests.post(\n",
    "                f\"{self.base_url}/token\", json={\"address\": email, \"password\": password}\n",
    "            )\n",
    "            account_info.update(r.json())\n",
    "            self.account_details[idx] = account_info\n",
    "        print(\"Tokens Generated\")\n",
    "        return self.account_details"
   ]
  },
  {
   "cell_type": "code",
   "execution_count": null,
   "metadata": {},
   "outputs": [],
   "source": [
    "tm = MailTM()\n",
    "tm"
   ]
  },
  {
   "cell_type": "code",
   "execution_count": null,
   "metadata": {},
   "outputs": [],
   "source": [
    "tm.create_account(num=1, save=False, random_account=True)\n",
    "# tm.accounts()"
   ]
  },
  {
   "cell_type": "code",
   "execution_count": null,
   "metadata": {},
   "outputs": [],
   "source": [
    "accounts = tm.accounts(save=True)\n",
    "for idx, account in accounts.items():\n",
    "    email = account[\"address\"]\n",
    "    password = account[\"password\"]\n",
    "    token = account[\"token\"]\n",
    "    break\n",
    "email, password, token\n",
    "# accounts"
   ]
  },
  {
   "cell_type": "code",
   "execution_count": null,
   "metadata": {},
   "outputs": [],
   "source": []
  },
  {
   "cell_type": "code",
   "execution_count": null,
   "metadata": {},
   "outputs": [],
   "source": [
    "r = requests.get(\n",
    "    f\"{tm.base_url}/messages\",\n",
    "    headers={\"Authorization\": f\"Bearer {token}\"},\n",
    "    json={\"address\": email, \"password\": password},\n",
    ")\n",
    "# Send post request with email and password in request body\n",
    "\n",
    "\n",
    "# r = requests.get(f'{base_url}/domains', json = {'address':email,'password':password})\n",
    "# print(r.json())\n",
    "def get_otp(email, password, token):\n",
    "    r = requests.get(\n",
    "        f\"{tm.base_url}/messages\",\n",
    "        headers={\"Authorization\": f\"Bearer {token}\"},\n",
    "        json={\"address\": email, \"password\": password},\n",
    "    )\n",
    "    messages = r.json().get(\"hydra:member\", [])[0][\"intro\"]\n",
    "    date = r.json().get(\"hydra:member\", [])[0][\"createdAt\"]\n",
    "    return messages, date, re.search(\"\\d{6}\", messages).group(0)\n",
    "\n",
    "\n",
    "# get_otp()"
   ]
  },
  {
   "cell_type": "code",
   "execution_count": null,
   "metadata": {},
   "outputs": [],
   "source": [
    "driver = uc.Chrome(options=get_options(mobile=False, headless=False))\n",
    "driver.delete_all_cookies()\n",
    "\n",
    "\n",
    "driver.get(\"https://www.tiktok.com\")\n",
    "time.sleep(3)\n",
    "driver.find_element(By.TAG_NAME, \"body\").send_keys(Keys.END)\n",
    "\n",
    "driver.get(\"https://www.tiktok.com/signup\")\n",
    "driver.refresh()\n",
    "\n",
    "driver.get(\"https://www.tiktok.com/signup/phone-or-email/email\")"
   ]
  },
  {
   "cell_type": "code",
   "execution_count": null,
   "metadata": {},
   "outputs": [],
   "source": [
    "em = \"Enrikkodra461253@outlook.com\"\n",
    "pwd = \"LAj461ciJS.\"\n",
    "opwd = \"LAj461ciJS\"\n",
    "uname = \"revolvingmanana\""
   ]
  },
  {
   "cell_type": "code",
   "execution_count": null,
   "metadata": {},
   "outputs": [],
   "source": [
    "email_elem = driver.find_element(By.TAG_NAME, \"input\")\n",
    "email_elem.clear()\n",
    "for i in em:\n",
    "    email_elem.send_keys(i)"
   ]
  },
  {
   "cell_type": "code",
   "execution_count": null,
   "metadata": {},
   "outputs": [],
   "source": [
    "driver.find_element(By.ID, \"email-consent\").click()"
   ]
  },
  {
   "cell_type": "code",
   "execution_count": null,
   "metadata": {},
   "outputs": [],
   "source": [
    "driver.find_element(By.XPATH, '//button[@type=\"submit\"]').click()"
   ]
  },
  {
   "cell_type": "code",
   "execution_count": null,
   "metadata": {
    "notebookRunGroups": {
     "groupValue": ""
    }
   },
   "outputs": [],
   "source": [
    "def input_details():\n",
    "    inputs = driver.find_elements(By.TAG_NAME, \"input\")\n",
    "    keys = [em, pwd]\n",
    "    for idx, elem in enumerate(inputs[:2]):\n",
    "        print(elem.get_attribute(\"placeholder\"))\n",
    "        elem.clear()\n",
    "        elem.send_keys(keys[idx])\n",
    "        time.sleep(2)\n",
    "    return inputs[-2]\n",
    "    # code = input(\"Enter code...\")\n",
    "    # if code:\n",
    "    #     inputs[-2].send_keys(code)\n",
    "\n",
    "\n",
    "get_age()\n",
    "otp = input_details()\n",
    "otp"
   ]
  },
  {
   "cell_type": "code",
   "execution_count": null,
   "metadata": {},
   "outputs": [],
   "source": [
    "import re\n",
    "\n",
    "tp = getOTP(em, opwd)\n",
    "key = re.findall(\"\\d{6}\", str(tp[1]))"
   ]
  },
  {
   "cell_type": "code",
   "execution_count": 14,
   "metadata": {},
   "outputs": [],
   "source": [
    "driver.find_element(By.LINK_TEXT, \"Upload\").click()"
   ]
  },
  {
   "cell_type": "code",
   "execution_count": null,
   "metadata": {},
   "outputs": [],
   "source": []
  },
  {
   "cell_type": "code",
   "execution_count": null,
   "metadata": {},
   "outputs": [],
   "source": []
  },
  {
   "cell_type": "code",
   "execution_count": null,
   "metadata": {},
   "outputs": [],
   "source": [
    "send_code = driver.find_element(\n",
    "    By.XPATH, '//button[@data-e2e=\"send-code-button\"]'\n",
    ").click()\n",
    "send_code = driver.find_element(\n",
    "    By.XPATH, '//button[@data-e2e=\"send-code-button\"]'\n",
    ").click()"
   ]
  },
  {
   "cell_type": "code",
   "execution_count": null,
   "metadata": {},
   "outputs": [],
   "source": [
    "# otp_key = get_otp(email, password, token)[-1]\n",
    "otp_key = \"539644\"\n",
    "\n",
    "\n",
    "otp.clear()\n",
    "\n",
    "\n",
    "otp.send_keys(otp_key)\n",
    "\n",
    "\n",
    "otp_key"
   ]
  },
  {
   "cell_type": "code",
   "execution_count": null,
   "metadata": {},
   "outputs": [],
   "source": [
    "# Post signup\n",
    "if \"create-username\" in driver.current_url:\n",
    "    print(\"i\")"
   ]
  },
  {
   "cell_type": "code",
   "execution_count": null,
   "metadata": {},
   "outputs": [],
   "source": [
    "username = driver.find_element(By.TAG_NAME, \"input\")\n",
    "# username.get_attribute(\"placeholder\")\n",
    "username.clear()\n",
    "username.send_keys(\"Revolvingmanana\")"
   ]
  },
  {
   "cell_type": "code",
   "execution_count": null,
   "metadata": {},
   "outputs": [],
   "source": [
    "driver.refresh()"
   ]
  },
  {
   "cell_type": "code",
   "execution_count": null,
   "metadata": {},
   "outputs": [],
   "source": [
    "submit = driver.find_element(By.XPATH, '//button[@type=\"submit\"]')\n",
    "submit.click()"
   ]
  },
  {
   "cell_type": "code",
   "execution_count": null,
   "metadata": {},
   "outputs": [],
   "source": [
    "login_url = \"https://www.tiktok.com/login/phone-or-email/email\"\n",
    "driver.get(login_url)"
   ]
  },
  {
   "cell_type": "code",
   "execution_count": null,
   "metadata": {},
   "outputs": [],
   "source": [
    "login_elems = driver.find_elements(By.TAG_NAME, \"input\")\n",
    "keys = [email, password]\n",
    "\n",
    "for idx, elem in enumerate(login_elems):\n",
    "    elem.clear()\n",
    "    elem.send_keys(keys[idx])\n",
    "driver.find_element(By.XPATH, '//button[@type=\"submit\"]').click()"
   ]
  },
  {
   "cell_type": "code",
   "execution_count": null,
   "metadata": {},
   "outputs": [],
   "source": [
    "import json"
   ]
  }
 ],
 "metadata": {
  "kernelspec": {
   "display_name": "Python 3",
   "language": "python",
   "name": "python3"
  },
  "language_info": {
   "codemirror_mode": {
    "name": "ipython",
    "version": 3
   },
   "file_extension": ".py",
   "mimetype": "text/x-python",
   "name": "python",
   "nbconvert_exporter": "python",
   "pygments_lexer": "ipython3",
   "version": "3.10.0"
  }
 },
 "nbformat": 4,
 "nbformat_minor": 2
}
